{
 "cells": [
  {
   "cell_type": "markdown",
   "id": "5ae98e6e",
   "metadata": {},
   "source": [
    "# Домашняя работа 1"
   ]
  },
  {
   "cell_type": "markdown",
   "id": "7524e85e",
   "metadata": {},
   "source": [
    "## Домашнее задание 1"
   ]
  },
  {
   "cell_type": "markdown",
   "id": "ef7b3f11",
   "metadata": {},
   "source": [
    "Оформляйте ноутбук, используя эти советы:\n",
    "- Номер задачи - заголовок 2\n",
    "- Номер подзадачи - заголовок 3\n",
    "- Предоставленные наборы данных оформляйте, как код"
   ]
  },
  {
   "cell_type": "markdown",
   "id": "d718d5d9",
   "metadata": {},
   "source": [
    "## Домашнее задание 2"
   ]
  },
  {
   "cell_type": "markdown",
   "id": "8e0c5352",
   "metadata": {},
   "source": [
    "На складе лежат разные фрукты в разном количестве.  \n",
    "Нужно написать функцию, которая на вход принимает любое\n",
    "количество названий фруктов и их количество, а возвращает\n",
    "общее количество фруктов на складе"
   ]
  },
  {
   "cell_type": "code",
   "execution_count": 1,
   "id": "e8d34a63",
   "metadata": {},
   "outputs": [
    {
     "data": {
      "text/plain": [
       "81"
      ]
     },
     "execution_count": 1,
     "metadata": {},
     "output_type": "execute_result"
    }
   ],
   "source": [
    "def count_fruits(**kwargs):\n",
    "        return(sum(kwargs.values()))\n",
    "\n",
    "count_fruits(mangos = 8, apples = 13, bananas = 20, grapes = 40)"
   ]
  },
  {
   "cell_type": "markdown",
   "id": "99b3e62a",
   "metadata": {},
   "source": [
    "## Домашнее задание 3\n",
    "Дан список с затратами на рекламу. Но в данных есть ошибки,\n",
    "некоторые затраты имеют отрицательную величину. Удалите\n",
    "такие значения из списка и посчитайте суммарные затраты\n",
    "[100, 125, -90, 345, 655, -1, 0, 200]\n",
    "\n",
    "Используйте list comprehensions"
   ]
  },
  {
   "cell_type": "code",
   "execution_count": 2,
   "id": "2f404e01",
   "metadata": {},
   "outputs": [
    {
     "data": {
      "text/plain": [
       "1425"
      ]
     },
     "execution_count": 2,
     "metadata": {},
     "output_type": "execute_result"
    }
   ],
   "source": [
    "marketing_list =  [100, 125, -90, 345, 655, -1, 0, 200]\n",
    "#new_marketing_list = [el for el in marketing_list if el >= 0] если нужен новый список\n",
    "sum([el for el in marketing_list if el >= 0])"
   ]
  },
  {
   "cell_type": "markdown",
   "id": "6347a06e",
   "metadata": {},
   "source": [
    "## Домашнее задание 4\n",
    "Оформление ноутбука и закрепление функций и генераторов\n",
    "Даны два списка.\n",
    "Дата покупки\n",
    "['2021-09-14', '2021-12-15', '2021-09-08', '2021-12-05', '2021-10-09', '2021-09-30', '2021-12-22', '2021-11-29', '2021-12-24', '2021-11-26', '2021-10-27', '2021-12-18', '2021-11-09', '2021-11-23', '2021-09-\n",
    "27', '2021-10-02', '2021-12-27', '2021-09-20', '2021-12-13', '2021-11-01', '2021-11-09', '2021-12-06', '2021-12-08', '2021-10-09', '2021-10-31', '2021-09-30', '2021-11-09', '2021-12-13', '2021-10-26', '2021-\n",
    "12-09']\n",
    "Суммы покупок по датам\n",
    "[1270, 8413, 9028, 3703, 5739, 4095, 295, 4944, 5723, 3701, 4471, 651, 7037, 4274, 6275, 4988, 6930, 2971, 6592, 2004, 2822, 519, 3406, 2732, 5015, 2008, 316, 6333, 5700, 2887]"
   ]
  },
  {
   "cell_type": "markdown",
   "id": "1c720446",
   "metadata": {},
   "source": [
    "### 4.1 Найдите, какая выручка у компании в ноябре\n",
    "Используйте list comprehensions"
   ]
  },
  {
   "cell_type": "code",
   "execution_count": 3,
   "id": "6143eedb",
   "metadata": {},
   "outputs": [
    {
     "data": {
      "text/plain": [
       "25098"
      ]
     },
     "execution_count": 3,
     "metadata": {},
     "output_type": "execute_result"
    }
   ],
   "source": [
    "dates = ['2021-09-14', '2021-12-15', '2021-09-08', '2021-12-05', '2021-10-09', '2021-09-30', '2021-12-22', '2021-11-29', '2021-12-24', '2021-11-26', '2021-10-27', '2021-12-18', '2021-11-09', '2021-11-23', '2021-09- 27', '2021-10-02', '2021-12-27', '2021-09-20', '2021-12-13', '2021-11-01', '2021-11-09', '2021-12-06', '2021-12-08', '2021-10-09', '2021-10-31', '2021-09-30', '2021-11-09', '2021-12-13', '2021-10-26', '2021- 12-09']\n",
    "purchases = [1270, 8413, 9028, 3703, 5739, 4095, 295, 4944, 5723, 3701, 4471, 651, 7037, 4274, 6275, 4988, 6930, 2971, 6592, 2004, 2822, 519, 3406, 2732, 5015, 2008, 316, 6333, 5700, 2887]\n",
    "sum([purchases[i] for i in range(len(dates)) if dates[i].split(\"-\")[1] == \"11\"])"
   ]
  },
  {
   "cell_type": "markdown",
   "id": "cc46ab4d",
   "metadata": {},
   "source": [
    "### 4.2 Найдите выручку компании в зависимости от месяца\n",
    "Для этого напишите функцию, которая на вход принимает список с датами и список с выручкой, а на выходе словарь, где\n",
    "ключи - это месяцы, а значения - это выручка.\n",
    "Используйте аннотирование типов."
   ]
  },
  {
   "cell_type": "code",
   "execution_count": 4,
   "id": "58fa45b2",
   "metadata": {},
   "outputs": [
    {
     "data": {
      "text/plain": [
       "{9: 25647, 10: 28645, 11: 25098, 12: 45452}"
      ]
     },
     "execution_count": 4,
     "metadata": {},
     "output_type": "execute_result"
    }
   ],
   "source": [
    "def revenue(dates: list, purchases: list) -> dict:\n",
    "    revenue_dict = {}\n",
    "    for i in range(len(dates)):\n",
    "        revenue_dict[int(dates[i].split('-')[1])] = revenue_dict.get(int(dates[i].split('-')[1]), 0) + purchases[i]\n",
    "    return dict(sorted(revenue_dict.items()))\n",
    "revenue(dates, purchases)"
   ]
  }
 ],
 "metadata": {
  "kernelspec": {
   "display_name": "Python 3 (ipykernel)",
   "language": "python",
   "name": "python3"
  },
  "language_info": {
   "codemirror_mode": {
    "name": "ipython",
    "version": 3
   },
   "file_extension": ".py",
   "mimetype": "text/x-python",
   "name": "python",
   "nbconvert_exporter": "python",
   "pygments_lexer": "ipython3",
   "version": "3.9.13"
  }
 },
 "nbformat": 4,
 "nbformat_minor": 5
}
